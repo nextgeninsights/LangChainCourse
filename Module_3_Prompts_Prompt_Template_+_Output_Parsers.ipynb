{
  "nbformat": 4,
  "nbformat_minor": 0,
  "metadata": {
    "colab": {
      "provenance": []
    },
    "kernelspec": {
      "name": "python3",
      "display_name": "Python 3"
    },
    "language_info": {
      "name": "python"
    }
  },
  "cells": [
    {
      "cell_type": "markdown",
      "source": [
        "Component: **Prompts**\n",
        "\n",
        "**Prompt Template**: Prompt templates are pre-defined recipes for generating prompts for language models.\\\n",
        "\\\n",
        "There are 2 types of Prompt Templates:\n",
        "\n",
        "\n",
        "1.   Basic Prompt Template\n",
        "2.   Chat Prompt Template\n",
        "\n"
      ],
      "metadata": {
        "id": "ZtJ02lCVfz4L"
      }
    },
    {
      "cell_type": "markdown",
      "source": [
        "**Basic Prompt Template**"
      ],
      "metadata": {
        "id": "_3y-zi-NzERU"
      }
    },
    {
      "cell_type": "code",
      "execution_count": null,
      "metadata": {
        "id": "9i9o5IQhfu-R"
      },
      "outputs": [],
      "source": [
        "# !pip install openai\n",
        "# !pip install langchain"
      ]
    },
    {
      "cell_type": "code",
      "source": [
        "from langchain.llms import OpenAI\n",
        "from langchain import PromptTemplate"
      ],
      "metadata": {
        "id": "nw2lWxZPkFKI"
      },
      "execution_count": null,
      "outputs": []
    },
    {
      "cell_type": "code",
      "source": [
        "openai_api_key = ''"
      ],
      "metadata": {
        "id": "qdrX2g6skiSp"
      },
      "execution_count": null,
      "outputs": []
    },
    {
      "cell_type": "code",
      "source": [
        "llm = OpenAI(openai_api_key=openai_api_key)"
      ],
      "metadata": {
        "id": "clD14ZIZkiLh"
      },
      "execution_count": null,
      "outputs": []
    },
    {
      "cell_type": "code",
      "source": [
        "template = \"\"\"Translate the text \\\n",
        "that is delimited by triple backticks\n",
        "into a style that is {style}.\n",
        "text: ```{input_text}```\n",
        "\"\"\""
      ],
      "metadata": {
        "id": "7IkPMa_qqxKB"
      },
      "execution_count": null,
      "outputs": []
    },
    {
      "cell_type": "code",
      "source": [
        "prompt = PromptTemplate(\n",
        "    input_variables=[\"input_text\",\"style\"],\n",
        "    template=template,\n",
        ")"
      ],
      "metadata": {
        "id": "fpZsaVNLqoW6"
      },
      "execution_count": null,
      "outputs": []
    },
    {
      "cell_type": "code",
      "source": [
        "input_text = \"\"\"\n",
        "स्वागत है! कृपया आपकी सहायता कैसे कर सकते हैं, बताएं।\n",
        "हमें आपकी मदद करके खुशी होगी, कृपया आपकी समस्या का विवरण दें।\n",
        "\"\"\"\n",
        "\n",
        "style = \"\"\"English \\\n",
        "in a calm and respectful tone\n",
        "\"\"\"\n",
        "\n",
        "final_prompt = prompt.format(input_text=input_text, style=style)\n"
      ],
      "metadata": {
        "id": "hElm6hKfqoTZ"
      },
      "execution_count": null,
      "outputs": []
    },
    {
      "cell_type": "code",
      "source": [
        "print(final_prompt)"
      ],
      "metadata": {
        "colab": {
          "base_uri": "https://localhost:8080/"
        },
        "id": "tKlmQZRRy7i5",
        "outputId": "7da7aa31-3694-42ff-db28-4e60107dd8d1"
      },
      "execution_count": null,
      "outputs": [
        {
          "output_type": "stream",
          "name": "stdout",
          "text": [
            "Translate the text that is delimited by triple backticks\n",
            "into a style that is English in a calm and respectful tone\n",
            ".\n",
            "text: ```\n",
            "स्वागत है! कृपया आपकी सहायता कैसे कर सकते हैं, बताएं।\n",
            "हमें आपकी मदद करके खुशी होगी, कृपया आपकी समस्या का विवरण दें।\n",
            "```\n",
            "\n"
          ]
        }
      ]
    },
    {
      "cell_type": "code",
      "source": [
        "llm(final_prompt) #output"
      ],
      "metadata": {
        "colab": {
          "base_uri": "https://localhost:8080/",
          "height": 35
        },
        "id": "talvEDpOy0cy",
        "outputId": "9f15c2fa-0340-4c9d-b8fb-b9818f97bb6c"
      },
      "execution_count": null,
      "outputs": [
        {
          "output_type": "execute_result",
          "data": {
            "text/plain": [
              "'\\nWelcome! Please let us know how we can help you. We would be glad to assist you, please provide us with a description of your issue.'"
            ],
            "application/vnd.google.colaboratory.intrinsic+json": {
              "type": "string"
            }
          },
          "metadata": {},
          "execution_count": 11
        }
      ]
    },
    {
      "cell_type": "markdown",
      "source": [
        "**Chat Prompt Template**\n",
        "\n",
        "This prompt templates are for chat models. The prompt to Chat Models is a list of chat messages."
      ],
      "metadata": {
        "id": "c5vNEIRnzA2w"
      }
    },
    {
      "cell_type": "code",
      "source": [
        "from langchain.prompts import ChatPromptTemplate\n",
        "\n",
        "template = ChatPromptTemplate.from_messages([\n",
        "    (\"system\", \"You are a helpful AI bot. Your name is Bob.\"),\n",
        "    (\"human\", \"Hello, how are you doing?\"),\n",
        "    (\"ai\", \"I'm doing well, thanks!\"),\n",
        "    (\"human\", \"{user_input}\"),\n",
        "])"
      ],
      "metadata": {
        "id": "4foEUEQzzfp-"
      },
      "execution_count": null,
      "outputs": []
    },
    {
      "cell_type": "code",
      "source": [
        "from langchain.chat_models import ChatOpenAI\n",
        "\n",
        "llm = ChatOpenAI(openai_api_key=openai_api_key) #chat model\n",
        "\n",
        "messages = template.format_messages(\n",
        "    user_input=\"What is your name?\"\n",
        ")\n",
        "\n",
        "llm(messages)"
      ],
      "metadata": {
        "colab": {
          "base_uri": "https://localhost:8080/"
        },
        "id": "PJsAyRlSzpWM",
        "outputId": "d8563185-1e02-4cb1-bead-726e5c178ef3"
      },
      "execution_count": null,
      "outputs": [
        {
          "output_type": "execute_result",
          "data": {
            "text/plain": [
              "AIMessage(content='My name is Bob. How can I assist you today?', additional_kwargs={}, example=False)"
            ]
          },
          "metadata": {},
          "execution_count": 17
        }
      ]
    },
    {
      "cell_type": "code",
      "source": [
        "output = llm(template.format_messages(user_input=\"Can you suggest me 5 best movies of Brad Pitt?\"))"
      ],
      "metadata": {
        "id": "4DYh6U5XkJxd"
      },
      "execution_count": null,
      "outputs": []
    },
    {
      "cell_type": "code",
      "source": [
        "output.content.split('\\n')"
      ],
      "metadata": {
        "colab": {
          "base_uri": "https://localhost:8080/"
        },
        "id": "i8fkp1UE0vo6",
        "outputId": "b2aec357-c137-42bd-d103-af6f861a8400"
      },
      "execution_count": null,
      "outputs": [
        {
          "output_type": "execute_result",
          "data": {
            "text/plain": [
              "['Certainly! Here are five highly acclaimed movies featuring Brad Pitt:',\n",
              " '',\n",
              " '1. Fight Club (1999) - A gripping psychological thriller about a disillusioned office worker who forms an underground fight club with a charismatic soap salesman.',\n",
              " '',\n",
              " \"2. Inglourious Basterds (2009) - Quentin Tarantino's alternate history war film, where Pitt plays the leader of a group of Jewish-American soldiers on a mission to assassinate Nazi leaders during World War II.\",\n",
              " '',\n",
              " '3. Se7en (1995) - A dark and intense crime thriller in which Pitt portrays a young detective assigned to track down a serial killer who bases his murders on the seven deadly sins.',\n",
              " '',\n",
              " '4. The Curious Case of Benjamin Button (2008) - A unique romantic drama that follows the life of a man who ages backward, with Pitt playing the titular character.',\n",
              " '',\n",
              " \"5. Once Upon a Time in Hollywood (2019) - Directed by Quentin Tarantino, this film is set in 1969 Los Angeles and features Pitt as a stunt double to Leonardo DiCaprio's fading TV star, as they navigate the changing landscape of the entertainment industry.\",\n",
              " '',\n",
              " \"These are just a few standout performances from Brad Pitt's extensive filmography!\"]"
            ]
          },
          "metadata": {},
          "execution_count": 27
        }
      ]
    },
    {
      "cell_type": "markdown",
      "source": [
        "**Output Parsers**: Output parsers are classes that help structure language model responses. \\\n",
        "\\\n",
        "The 2 main types of Output Parsers:\n",
        "\n",
        "\n",
        "1.   Structured Output Parsers\n",
        "2.   Pydantic Output Parsers\n",
        "3.   You can explore more on :https://python.langchain.com/docs/modules/model_io/output_parsers/"
      ],
      "metadata": {
        "id": "WzGr2zpk2PKy"
      }
    },
    {
      "cell_type": "markdown",
      "source": [
        "**Structured Output Parser**"
      ],
      "metadata": {
        "id": "L_qL_iAx2s-_"
      }
    },
    {
      "cell_type": "code",
      "source": [
        "from langchain.output_parsers import StructuredOutputParser, ResponseSchema\n",
        "from langchain.prompts import PromptTemplate\n",
        "from langchain.llms import OpenAI"
      ],
      "metadata": {
        "id": "bnoBdWUn2m_Y"
      },
      "execution_count": null,
      "outputs": []
    },
    {
      "cell_type": "code",
      "source": [
        "response_schemas = [\n",
        "    ResponseSchema(name=\"answer\", description=\"answer to the user's question\"),\n",
        "    ResponseSchema(name=\"source\", description=\"source used to answer the user's question, should be a website.\")\n",
        "]\n",
        "output_parser = StructuredOutputParser.from_response_schemas(response_schemas)"
      ],
      "metadata": {
        "id": "-Mm2eewv230H"
      },
      "execution_count": null,
      "outputs": []
    },
    {
      "cell_type": "code",
      "source": [
        "format_instructions = output_parser.get_format_instructions()\n",
        "prompt = PromptTemplate(\n",
        "    template=\"answer the users question as best as possible.\\n{format_instructions}\\n{question}\",\n",
        "    input_variables=[\"question\"],\n",
        "    partial_variables={\"format_instructions\": format_instructions}\n",
        ")"
      ],
      "metadata": {
        "id": "0VSs2meF24vZ"
      },
      "execution_count": null,
      "outputs": []
    },
    {
      "cell_type": "code",
      "source": [
        "llm = OpenAI(temperature=0,openai_api_key = openai_api_key)"
      ],
      "metadata": {
        "id": "bSId0sDg3JDd"
      },
      "execution_count": null,
      "outputs": []
    },
    {
      "cell_type": "code",
      "source": [
        "input = prompt.format_prompt(question=\"what's the capital of france?\")\n",
        "output = llm(input.to_string())"
      ],
      "metadata": {
        "id": "xKhiscQu259E"
      },
      "execution_count": null,
      "outputs": []
    },
    {
      "cell_type": "code",
      "source": [
        "output_parser.parse(output)"
      ],
      "metadata": {
        "colab": {
          "base_uri": "https://localhost:8080/"
        },
        "id": "6BSQrK9K2-jC",
        "outputId": "165cc54b-0adc-4cc3-d158-789266fa4f7b"
      },
      "execution_count": null,
      "outputs": [
        {
          "output_type": "execute_result",
          "data": {
            "text/plain": [
              "{'answer': 'Paris',\n",
              " 'source': 'https://www.worldatlas.com/articles/what-is-the-capital-of-france.html'}"
            ]
          },
          "metadata": {},
          "execution_count": 35
        }
      ]
    },
    {
      "cell_type": "markdown",
      "source": [
        "**Pydantic (JSON) parser**"
      ],
      "metadata": {
        "id": "LBYYIG_D3i8G"
      }
    },
    {
      "cell_type": "code",
      "source": [
        "from langchain.prompts import PromptTemplate\n",
        "from langchain.llms import OpenAI"
      ],
      "metadata": {
        "id": "3zmseRa83Wqg"
      },
      "execution_count": null,
      "outputs": []
    },
    {
      "cell_type": "code",
      "source": [
        "from langchain.output_parsers import PydanticOutputParser\n",
        "from pydantic import BaseModel, Field, validator\n",
        "from typing import List"
      ],
      "metadata": {
        "id": "lReS_D3E3pfS"
      },
      "execution_count": null,
      "outputs": []
    },
    {
      "cell_type": "code",
      "source": [
        "# Here's another example, but with a compound typed field.\n",
        "class Cricketer(BaseModel):\n",
        "    name: str = Field(description=\"name of a cricketer\")\n",
        "    team_names: List[str] = Field(description=\"list of names of IPL teams he was part of\")"
      ],
      "metadata": {
        "id": "lWHnp1PH3yX2"
      },
      "execution_count": null,
      "outputs": []
    },
    {
      "cell_type": "code",
      "source": [
        "Cricketer_query = \"Generate the IPL teams record of Dinesh Kartik\"\n",
        "\n",
        "parser = PydanticOutputParser(pydantic_object=Cricketer)"
      ],
      "metadata": {
        "id": "g3eO7VEu35Wv"
      },
      "execution_count": null,
      "outputs": []
    },
    {
      "cell_type": "code",
      "source": [
        "prompt = PromptTemplate(\n",
        "    template=\"Answer the user query.\\n{format_instructions}\\n{query}\\n\",\n",
        "    input_variables=[\"query\"],\n",
        "    partial_variables={\"format_instructions\": parser.get_format_instructions()},\n",
        ")"
      ],
      "metadata": {
        "id": "b4EkxD7938Bi"
      },
      "execution_count": null,
      "outputs": []
    },
    {
      "cell_type": "code",
      "source": [
        "input = prompt.format_prompt(query=Cricketer_query)\n",
        "output = llm(input.to_string())"
      ],
      "metadata": {
        "id": "TeaWiAMd39WO"
      },
      "execution_count": null,
      "outputs": []
    },
    {
      "cell_type": "code",
      "source": [
        "parser.parse(output)"
      ],
      "metadata": {
        "colab": {
          "base_uri": "https://localhost:8080/"
        },
        "id": "Epvdsiis4AX9",
        "outputId": "941321e7-4e11-4618-fe7b-45c15bc8e568"
      },
      "execution_count": null,
      "outputs": [
        {
          "output_type": "execute_result",
          "data": {
            "text/plain": [
              "Cricketer(name='Dinesh Kartik', film_names=['Delhi Daredevils', 'Kolkata Knight Riders', 'Kings XI Punjab', 'Mumbai Indians'])"
            ]
          },
          "metadata": {},
          "execution_count": 45
        }
      ]
    }
  ]
}