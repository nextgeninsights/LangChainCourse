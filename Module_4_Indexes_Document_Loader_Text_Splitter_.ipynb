{
  "nbformat": 4,
  "nbformat_minor": 0,
  "metadata": {
    "colab": {
      "provenance": []
    },
    "kernelspec": {
      "name": "python3",
      "display_name": "Python 3"
    },
    "language_info": {
      "name": "python"
    }
  },
  "cells": [
    {
      "cell_type": "markdown",
      "source": [
        "Component 4- **Indexes**\n",
        "\n",
        "There are 4 categories under Indexes\n",
        "\n",
        "\n",
        "\n",
        "1.   Document Loader\n",
        "2.   Text Splitter\n",
        "3.   Vector Store\n",
        "4.   Retirever\n",
        "\n"
      ],
      "metadata": {
        "id": "HPfG-8L4kfR8"
      }
    },
    {
      "cell_type": "code",
      "source": [
        "# !pip install openai\n",
        "# !pip install langchain"
      ],
      "metadata": {
        "id": "gyKCrp2qkeai"
      },
      "execution_count": null,
      "outputs": []
    },
    {
      "cell_type": "code",
      "source": [
        "# !pip install pypdf"
      ],
      "metadata": {
        "id": "rpc1V_aatHmy",
        "colab": {
          "base_uri": "https://localhost:8080/"
        },
        "outputId": "42294181-07ee-4a51-acf4-c4e1df2013dc"
      },
      "execution_count": null,
      "outputs": [
        {
          "output_type": "stream",
          "name": "stdout",
          "text": [
            "Requirement already satisfied: pypdf in /usr/local/lib/python3.10/dist-packages (3.15.3)\n"
          ]
        }
      ]
    },
    {
      "cell_type": "code",
      "execution_count": null,
      "metadata": {
        "id": "EfW3yeMBkUx_"
      },
      "outputs": [],
      "source": [
        "import openai"
      ]
    },
    {
      "cell_type": "code",
      "source": [
        "openai_api_key=''"
      ],
      "metadata": {
        "id": "v1j1LCfQlWca"
      },
      "execution_count": null,
      "outputs": []
    },
    {
      "cell_type": "markdown",
      "source": [
        "**Document Loader**"
      ],
      "metadata": {
        "id": "r3VpWZAmqKXp"
      }
    },
    {
      "cell_type": "markdown",
      "source": [
        "1. Text Loader\n",
        "2. PDF Loader\n",
        "3. CSV Loader\n",
        "\n",
        "Other loaders are: https://python.langchain.com/docs/modules/data_connection/document_loaders/"
      ],
      "metadata": {
        "id": "XJH9KzvTzP_y"
      }
    },
    {
      "cell_type": "markdown",
      "source": [
        "TextLoader"
      ],
      "metadata": {
        "id": "pr-GDTTO0wSH"
      }
    },
    {
      "cell_type": "code",
      "source": [
        "from langchain.document_loaders import TextLoader\n",
        "\n",
        "loader = TextLoader(\"/content/Clouds.txt\")\n",
        "loader.load()"
      ],
      "metadata": {
        "colab": {
          "base_uri": "https://localhost:8080/"
        },
        "id": "6JZMDKwez4t5",
        "outputId": "b0abed2d-1c91-488a-8fea-7a4fe3fc7f9e"
      },
      "execution_count": null,
      "outputs": [
        {
          "output_type": "execute_result",
          "data": {
            "text/plain": [
              "[Document(page_content='Magnificent, heavenly light filters through the wispy clouds, signifying a new day. The thin clouds slowly drift apart, presenting a beautiful sky above. Speaking out to me, the sky seems to know every one of my thoughts, my dreams, my darkest fears.', metadata={'source': '/content/Clouds.txt'})]"
            ]
          },
          "metadata": {},
          "execution_count": 5
        }
      ]
    },
    {
      "cell_type": "markdown",
      "source": [
        "PDF Loader\n",
        "\n",
        "PDF Loaders are: https://python.langchain.com/docs/modules/data_connection/document_loaders/pdf"
      ],
      "metadata": {
        "id": "KYt_HADN0yVk"
      }
    },
    {
      "cell_type": "code",
      "source": [
        "from langchain.document_loaders import PyPDFLoader\n",
        "\n",
        "loader = PyPDFLoader(\"/content/MedicalReport.pdf\")\n",
        "loader.load_and_split()"
      ],
      "metadata": {
        "colab": {
          "base_uri": "https://localhost:8080/"
        },
        "id": "uZ_2jUYP0x5c",
        "outputId": "67c96e3e-f9d7-49c0-9abe-00bada3dae99"
      },
      "execution_count": null,
      "outputs": [
        {
          "output_type": "execute_result",
          "data": {
            "text/plain": [
              "[Document(page_content='The report includes the results of various tests conducted at Marwah Hospitals in\\nMuzaffarnagar. The tests mentioned are Complete Blood Count (CBC), Hepatitis C\\nAntibody (HCV) Rapid Card, HIV Antibody Rapid Card, and Hepatitis B Surface Antigen\\n(HBsAg) Rapid Card. The report also mentions that while rapid tests are sensitive and\\nreliable screening tests, they should not be used as the sole criterion for diagnosis, and\\nmolecular testing (PCR) is recommended for confirmation.Patient Information:\\n- Age: 42\\n- Gender: Male\\nClinical History:\\nThe patient has a medical history of mild asthma. He presented with complaints of\\npersistent cough, shortness of breath, and mild chest discomfort.\\nLaboratory Investigations:\\n- Complete Blood Count (CBC):\\n  - Hemoglobin level: 13.7 g/dL (normal range: 12.0-16.0 g/dL)\\n  - Red blood cell count: 4.51 x 10^6/uL (normal range: 4.2-5.4 x 10^6/uL)\\n  - White blood cell count: 6.2 x 10^3/uL (normal range: 4.0-10.0 x 10^3/uL)\\n  - Platelet count: 250 x 10^3/uL (normal range: 150-400 x 10^3/uL)\\n- Basic Metabolic Panel (BMP) or Comprehensive Metabolic Panel (CMP):\\n  - Glucose levels: 83 mg/dL (normal range: 70-99 mg/dL)\\n  - Creatinine level: 0.8 mg/dL (normal range: 0.7-1.3 mg/dL)\\n  - Blood urea nitrogen (BUN) level: 11 mg/dL (normal range: 6-20 mg/dL)\\n  - Sodium level: 138 mEq/L (normal range: 135-145 mEq/L)', metadata={'source': '/content/MedicalReport.pdf', 'page': 0}),\n",
              " Document(page_content=\"Laboratory Investigation:\\nThe patient's complete blood count (CBC) results indicate that his hemoglobin level, red\\nblood cell count, white blood cell count, and platelet count are within the normal range.\\nThis suggests that there are no significant abnormalities in his blood cell counts.\\nThe basic metabolic panel (BMP) or comprehensive metabolic panel (CMP) results show\\nthat the patient's glucose level, creatinine level, blood urea nitrogen (BUN) level, and\\nsodium level are also within the normal range. These findings suggest that there are no\\nsignificant abnormalities in his metabolic profile.\\nAssessment:\\nBased on the patient's symptoms, medical history, and laboratory investigations, the\\ninitial assessment suggests that the patient may be experiencing respiratory symptoms\\nrelated to his mild asthma. However, further evaluation and diagnostic tests may be\\nnecessary to confirm the diagnosis and rule out other possible causes.\\nRecommendations:\\n1. Consultation with a pulmonologist: The patient should be referred to a pulmonologist\\nfor further evaluation and management of his respiratory symptoms. The pulmonologist\\ncan assess his lung function, perform additional diagnostic tests if needed, and provide\\nappropriate treatment options for his asthma.\\n2. Asthma management: The patient should continue to follow his prescribed asthma\\ntreatment plan, including the use of inhalers and any other medications recommended by\\nhis pulmonologist. He should also be educated about asthma triggers and how to avoid\\nthem to minimize symptoms.\", metadata={'source': '/content/MedicalReport.pdf', 'page': 1}),\n",
              " Document(page_content=\"3. Lifestyle modifications: The patient should be advised to avoid exposure to known\\ntriggers for his asthma, such as smoke, dust, and allergens. Regular exercise and\\nmaintaining a healthy lifestyle can also help improve lung function and overall respiratory\\nhealth.\\nFollow-Up:\\nThe patient should schedule a follow-up appointment with the pulmonologist in order to\\nassess the effectiveness of the current treatment plan, monitor his respiratory symptoms,\\nand make any necessary adjustments to his asthma management.\\nThis report is provided for informational purposes only and should not be considered as a\\nsubstitute for professional medical advice. Any decisions regarding the patient's care\\nshould be made in consultation with a qualified healthcare provider.\", metadata={'source': '/content/MedicalReport.pdf', 'page': 2})]"
            ]
          },
          "metadata": {},
          "execution_count": 9
        }
      ]
    },
    {
      "cell_type": "markdown",
      "source": [
        "CSV Loader\n",
        "\n",
        "https://python.langchain.com/docs/modules/data_connection/document_loaders/csv"
      ],
      "metadata": {
        "id": "5pLIrmmY3vOU"
      }
    },
    {
      "cell_type": "code",
      "source": [
        "from langchain.document_loaders.csv_loader import CSVLoader\n",
        "\n",
        "loader = CSVLoader(file_path='/content/Oscar.csv')\n",
        "loader.load()"
      ],
      "metadata": {
        "colab": {
          "base_uri": "https://localhost:8080/"
        },
        "id": "YCKwNywJ3xhI",
        "outputId": "1ef61136-8613-4365-f45b-e375dc31eab4"
      },
      "execution_count": null,
      "outputs": [
        {
          "output_type": "execute_result",
          "data": {
            "text/plain": [
              "[Document(page_content='question: What did Oscar the Tiger like to do best in the forest?\\noptionA: Sleeping\\noptionB: hunting\\noptionC: climbing\\noptionD: swimming\\nAnswer: Sleeping\\nreason: Oscar is a tiger and tigers like to sleep.', metadata={'source': '/content/Oscar.csv', 'row': 0}),\n",
              " Document(page_content='question: What did Oscar like to eat in the forest?\\noptionA: Bears\\noptionB: deer\\noptionC: rabbits\\noptionD: mice\\nAnswer: Rabbits\\nreason: Oscar is a tiger and tigers eat rabbits.', metadata={'source': '/content/Oscar.csv', 'row': 1}),\n",
              " Document(page_content='question: What did Oscar like to drink in the forest?\\noptionA: Water\\noptionB: juice\\noptionC: milk\\noptionD: soda\\nAnswer: Water\\nreason: Oscar is a tiger and tigers drink water.', metadata={'source': '/content/Oscar.csv', 'row': 2}),\n",
              " Document(page_content='question: What did Oscar like to play in the forest?\\noptionA: Hide and seek\\noptionB: tag\\noptionC: football\\noptionD: soccer\\nAnswer: Hide and seek\\nreason: Oscar is a tiger and tigers like to play hide and seek.', metadata={'source': '/content/Oscar.csv', 'row': 3}),\n",
              " Document(page_content='question: What did Oscar like to read in the forest?\\noptionA: Tales of the jungle\\noptionB: poetry\\noptionC: novels\\noptionD: newspapers\\nAnswer: Tales of the jungle\\nreason: Oscar is a tiger and tigers like to read tales of the jungle.', metadata={'source': '/content/Oscar.csv', 'row': 4}),\n",
              " Document(page_content='question: What did Oscar like to listen to in the forest?\\noptionA: Birds\\noptionB: animals\\noptionC: music\\noptionD: sounds\\nAnswer: Birds\\nreason: Oscar is a tiger and tigers like to listen to birds.', metadata={'source': '/content/Oscar.csv', 'row': 5}),\n",
              " Document(page_content='question: What did Oscar like to smell in the forest?\\noptionA: Flowers\\noptionB: food\\noptionC: animals\\noptionD: nothing\\nAnswer: Flowers\\nreason: Oscar is a tiger and tigers like to smell flowers.', metadata={'source': '/content/Oscar.csv', 'row': 6}),\n",
              " Document(page_content='question: What did Oscar like to touch in the forest?\\noptionA: Flowers\\noptionB: grass\\noptionC: animals\\noptionD: nothing\\nAnswer: Animals\\nreason: Oscar is a tiger and tigers like to touch animals.', metadata={'source': '/content/Oscar.csv', 'row': 7}),\n",
              " Document(page_content='question: What did Oscar like to see in the forest?\\noptionA: Birds\\noptionB: animals\\noptionC: flowers\\noptionD: nothing\\nAnswer: Birds\\nreason: Oscar is a tiger and tigers like to see birds.', metadata={'source': '/content/Oscar.csv', 'row': 8}),\n",
              " Document(page_content='question: What did Oscar like to hear in the forest?\\noptionA: Birds\\noptionB: animals\\noptionC: music\\noptionD: sounds\\nAnswer: Birds\\nreason: Oscar is a tiger and tigers like to hear birds.', metadata={'source': '/content/Oscar.csv', 'row': 9}),\n",
              " Document(page_content='question: What did Oscar like to smell in the forest?\\noptionA: Flowers\\noptionB: food\\noptionC: animals\\noptionD: nothing\\nAnswer: Flowers\\nreason: Oscar is a tiger and tigers like to smell flowers.', metadata={'source': '/content/Oscar.csv', 'row': 10}),\n",
              " Document(page_content='question: What did Oscar like to touch in the forest?\\noptionA: Flowers\\noptionB: grass\\noptionC: animals\\noptionD: nothing\\nAnswer: Animals\\nreason: Oscar is a tiger and tigers like to touch animals.', metadata={'source': '/content/Oscar.csv', 'row': 11}),\n",
              " Document(page_content='question: What did Oscar like to see in the forest?\\noptionA: Birds\\noptionB: animals\\noptionC: flowers\\noptionD: nothing\\nAnswer: Birds\\nreason: Oscar is a tiger and tigers like to see birds.', metadata={'source': '/content/Oscar.csv', 'row': 12}),\n",
              " Document(page_content='question: What did Oscar like to hear in the forest?\\noptionA: Birds\\noptionB: animals\\noptionC: music\\noptionD: sounds\\nAnswer: Birds\\nreason: Oscar is a tiger and tigers like to hear birds.', metadata={'source': '/content/Oscar.csv', 'row': 13}),\n",
              " Document(page_content='question: What did Oscar like to smell in the forest?\\noptionA: Flowers\\noptionB: food\\noptionC: animals\\noptionD: nothing\\nAnswer: Flowers\\nreason: Oscar is a tiger and tigers like to smell flowers.', metadata={'source': '/content/Oscar.csv', 'row': 14}),\n",
              " Document(page_content='question: What did Oscar like to touch in the forest?\\noptionA: Flowers\\noptionB: grass\\noptionC: animals\\noptionD: nothing\\nAnswer: Animals\\nreason: Oscar is a tiger and tigers like to touch animals.', metadata={'source': '/content/Oscar.csv', 'row': 15}),\n",
              " Document(page_content='question: What did Oscar like to see in the forest?\\noptionA: Birds\\noptionB: animals\\noptionC: flowers\\noptionD: nothing\\nAnswer: Birds\\nreason: Oscar is a tiger and tigers like to see birds.', metadata={'source': '/content/Oscar.csv', 'row': 16}),\n",
              " Document(page_content='question: What did Oscar like to hear in the forest?\\noptionA: Birds\\noptionB: animals\\noptionC: music\\noptionD: sounds\\nAnswer: Birds\\nreason: Oscar is a tiger and tigers like to hear birds.', metadata={'source': '/content/Oscar.csv', 'row': 17}),\n",
              " Document(page_content='question: What did Oscar like to smell in the forest?\\noptionA: Flowers\\noptionB: food\\noptionC: animals\\noptionD: nothing\\nAnswer: Flowers\\nreason: Oscar is a tiger and tigers like to smell flowers.', metadata={'source': '/content/Oscar.csv', 'row': 18}),\n",
              " Document(page_content='question: What did Oscar like to touch in the forest?\\noptionA: Flowers\\noptionB: grass\\noptionC: animals\\noptionD: nothing\\nAnswer: Animals\\nreason: Oscar is a tiger and tigers like to touch animals.', metadata={'source': '/content/Oscar.csv', 'row': 19})]"
            ]
          },
          "metadata": {},
          "execution_count": 16
        }
      ]
    },
    {
      "cell_type": "markdown",
      "source": [
        "**Text Splitters**\n",
        "\n",
        "RecursiveCharacterTextSplitter\n",
        "\n",
        "\n",
        "https://python.langchain.com/docs/modules/data_connection/document_transformers/"
      ],
      "metadata": {
        "id": "Zw7PSAGk4Zlo"
      }
    },
    {
      "cell_type": "code",
      "source": [
        "with open('/content/Clouds.txt') as f:\n",
        "    clouds = f.read()"
      ],
      "metadata": {
        "id": "fdp5XZ_z4IXM"
      },
      "execution_count": null,
      "outputs": []
    },
    {
      "cell_type": "code",
      "source": [
        "from langchain.text_splitter import RecursiveCharacterTextSplitter"
      ],
      "metadata": {
        "id": "DErexMTR5OIq"
      },
      "execution_count": null,
      "outputs": []
    },
    {
      "cell_type": "code",
      "source": [
        "text_splitter = RecursiveCharacterTextSplitter(\n",
        "    # Set a really small chunk size, just to show.\n",
        "    chunk_size = 100,\n",
        "    chunk_overlap  = 20,\n",
        "    length_function = len,\n",
        "    add_start_index = True,\n",
        ")"
      ],
      "metadata": {
        "id": "w4jFO6735aKG"
      },
      "execution_count": null,
      "outputs": []
    },
    {
      "cell_type": "code",
      "source": [
        "texts = text_splitter.create_documents([clouds])\n",
        "print(texts[0])\n",
        "print(texts[1])\n",
        "print(texts[2])"
      ],
      "metadata": {
        "colab": {
          "base_uri": "https://localhost:8080/"
        },
        "id": "vd0__5qT5o7n",
        "outputId": "69535e4f-a1c8-4abe-f63c-9492f957d428"
      },
      "execution_count": null,
      "outputs": [
        {
          "output_type": "stream",
          "name": "stdout",
          "text": [
            "page_content='Magnificent, heavenly light filters through the wispy clouds, signifying a new day. The thin clouds' metadata={'start_index': 0}\n",
            "page_content='The thin clouds slowly drift apart, presenting a beautiful sky above. Speaking out to me, the sky' metadata={'start_index': 84}\n",
            "page_content='out to me, the sky seems to know every one of my thoughts, my dreams, my darkest fears.' metadata={'start_index': 163}\n"
          ]
        }
      ]
    }
  ]
}