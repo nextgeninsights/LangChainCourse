{
  "nbformat": 4,
  "nbformat_minor": 0,
  "metadata": {
    "colab": {
      "provenance": []
    },
    "kernelspec": {
      "name": "python3",
      "display_name": "Python 3"
    },
    "language_info": {
      "name": "python"
    }
  },
  "cells": [
    {
      "cell_type": "markdown",
      "source": [
        "Component: **Indexes**\n",
        "\n",
        "**Vector Store**:  A vector store takes care of storing embedded data and performing vector search for you.\\\n",
        "\\\n",
        "There are different vector databases option:\n",
        "\n",
        "\n",
        "1.   ChromaDB\n",
        "2.   For more you can visit this link: https://python.langchain.com/docs/modules/data_connection/vectorstores.html\n",
        "\n"
      ],
      "metadata": {
        "id": "ZtJ02lCVfz4L"
      }
    },
    {
      "cell_type": "code",
      "execution_count": null,
      "metadata": {
        "id": "9i9o5IQhfu-R"
      },
      "outputs": [],
      "source": [
        "# !pip install openai\n",
        "# !pip install langchain\n",
        "# !pip install chromadb\n",
        "# !pip install tiktoken"
      ]
    },
    {
      "cell_type": "code",
      "source": [
        "from langchain.llms import OpenAI"
      ],
      "metadata": {
        "id": "nw2lWxZPkFKI"
      },
      "execution_count": null,
      "outputs": []
    },
    {
      "cell_type": "code",
      "source": [
        "openai_api_key = ''"
      ],
      "metadata": {
        "id": "qdrX2g6skiSp"
      },
      "execution_count": null,
      "outputs": []
    },
    {
      "cell_type": "code",
      "source": [
        "llm = OpenAI(openai_api_key=openai_api_key)"
      ],
      "metadata": {
        "id": "clD14ZIZkiLh"
      },
      "execution_count": null,
      "outputs": []
    },
    {
      "cell_type": "code",
      "source": [
        "from langchain.document_loaders import TextLoader\n",
        "from langchain.embeddings.openai import OpenAIEmbeddings\n",
        "from langchain.text_splitter import CharacterTextSplitter\n",
        "from langchain.vectorstores import Chroma"
      ],
      "metadata": {
        "id": "6bD_drNCCrkw"
      },
      "execution_count": null,
      "outputs": []
    },
    {
      "cell_type": "code",
      "source": [
        "raw_documents = TextLoader('/content/text.txt').load()\n",
        "text_splitter = CharacterTextSplitter(chunk_size=1000, chunk_overlap=0)\n",
        "documents = text_splitter.split_documents(raw_documents)\n",
        "db = Chroma.from_documents(documents, OpenAIEmbeddings(openai_api_key=openai_api_key))"
      ],
      "metadata": {
        "id": "l85nala2D5hJ"
      },
      "execution_count": null,
      "outputs": []
    },
    {
      "cell_type": "code",
      "source": [
        "query = \"What are app-assisted workouts\"\n",
        "docs = db.similarity_search(query)\n",
        "print(docs[0].page_content)"
      ],
      "metadata": {
        "colab": {
          "base_uri": "https://localhost:8080/"
        },
        "id": "cQaT7XgtD7_m",
        "outputId": "22b9b044-ea5b-43b5-f835-376ec8ac3b9c"
      },
      "execution_count": null,
      "outputs": [
        {
          "output_type": "stream",
          "name": "stdout",
          "text": [
            "2. App-Assisted Workouts:\n",
            "With the rise of fitness apps, we have access to a plethora of workout routines and training plans at our fingertips. Whether you're into yoga, HIIT, running, or strength training, there's an app for that. These apps often offer customizable plans based on fitness levels and goals, making it easier to commit to a regular exercise routine.\n",
            "\n",
            "3. Virtual Fitness Classes:\n",
            "The global pandemic catalyzed the popularity of virtual fitness classes. From live-streamed yoga sessions to interactive cycling classes, these virtual workouts bring the energy of a studio into the comfort of your home. They offer flexibility in terms of timing and can be a great way to stay connected with fitness communities.\n"
          ]
        }
      ]
    },
    {
      "cell_type": "markdown",
      "source": [
        "**Retriever**:A retriever is an interface that returns documents given an unstructured query.\n",
        "\n",
        "\n"
      ],
      "metadata": {
        "id": "ulmb84dyE05D"
      }
    },
    {
      "cell_type": "code",
      "source": [
        "from langchain.embeddings import OpenAIEmbeddings\n",
        "from langchain.chains import RetrievalQA\n",
        "\n",
        "embeddings = OpenAIEmbeddings(openai_api_key=openai_api_key)"
      ],
      "metadata": {
        "id": "nzPs9m4uHJ6_"
      },
      "execution_count": null,
      "outputs": []
    },
    {
      "cell_type": "code",
      "source": [
        "db = Chroma.from_documents(documents, embeddings)"
      ],
      "metadata": {
        "id": "ApI0sOIOI53H"
      },
      "execution_count": null,
      "outputs": []
    },
    {
      "cell_type": "code",
      "source": [
        "retriever = db.as_retriever()"
      ],
      "metadata": {
        "id": "btgWJ6QwI_Cp"
      },
      "execution_count": null,
      "outputs": []
    },
    {
      "cell_type": "code",
      "source": [
        "qa = RetrievalQA.from_chain_type(llm=llm, chain_type=\"stuff\", retriever=retriever)"
      ],
      "metadata": {
        "id": "KClmJPjeI_AZ"
      },
      "execution_count": null,
      "outputs": []
    },
    {
      "cell_type": "code",
      "source": [
        "query = \"What is Smart Nutrition Planning\"\n",
        "qa.run(query)"
      ],
      "metadata": {
        "colab": {
          "base_uri": "https://localhost:8080/",
          "height": 53
        },
        "id": "TACs4CSmJV2-",
        "outputId": "e6b85244-6881-48de-e722-c91af0f386fc"
      },
      "execution_count": null,
      "outputs": [
        {
          "output_type": "execute_result",
          "data": {
            "text/plain": [
              "' Smart Nutrition Planning is a modern app that assists with meal planning, recipe suggestions, and grocery lists. It considers dietary preferences and restrictions to curate meal options that align with fitness goals.'"
            ],
            "application/vnd.google.colaboratory.intrinsic+json": {
              "type": "string"
            }
          },
          "metadata": {},
          "execution_count": 31
        }
      ]
    },
    {
      "cell_type": "markdown",
      "source": [
        "**VectorStoreIndexCreator**"
      ],
      "metadata": {
        "id": "_OGwuY-rKfkV"
      }
    },
    {
      "cell_type": "code",
      "source": [
        "from langchain.indexes import VectorstoreIndexCreator"
      ],
      "metadata": {
        "id": "NnJ2Yi2uFOIL"
      },
      "execution_count": null,
      "outputs": []
    },
    {
      "cell_type": "code",
      "source": [
        "raw_documents = TextLoader('/content/text.txt')\n",
        "index = VectorstoreIndexCreator(embedding=OpenAIEmbeddings(openai_api_key=openai_api_key)).from_loaders([raw_documents])"
      ],
      "metadata": {
        "id": "CwM8ly_-Fj1F"
      },
      "execution_count": null,
      "outputs": []
    },
    {
      "cell_type": "code",
      "source": [
        "query = \"What are micro workouts?\"\n",
        "index.query(query)"
      ],
      "metadata": {
        "colab": {
          "base_uri": "https://localhost:8080/",
          "height": 53
        },
        "id": "r7Hy6ydTFssm",
        "outputId": "087f998e-b4c1-425b-8b25-be3751cf3778"
      },
      "execution_count": null,
      "outputs": [
        {
          "output_type": "execute_result",
          "data": {
            "text/plain": [
              "' Micro workouts are short bursts of activity that can be just as effective as longer workouts. Examples of micro workouts include taking the stairs, doing squats while brushing your teeth, or going for a brisk walk during lunch breaks.'"
            ],
            "application/vnd.google.colaboratory.intrinsic+json": {
              "type": "string"
            }
          },
          "metadata": {},
          "execution_count": 24
        }
      ]
    }
  ]
}