{
  "nbformat": 4,
  "nbformat_minor": 0,
  "metadata": {
    "colab": {
      "provenance": []
    },
    "kernelspec": {
      "name": "python3",
      "display_name": "Python 3"
    },
    "language_info": {
      "name": "python"
    }
  },
  "cells": [
    {
      "cell_type": "markdown",
      "source": [
        "Component: **Agents**\n",
        "\n",
        "**Agents**:  An agent is a component that has access to a suite of tools and can decide which tool to use based on the user's input.\\\n",
        "\\\n",
        "There are 2 components in agent:\\\n",
        "\n",
        "\n",
        "1.   Tools\n",
        "2.   ToolKits\n",
        "\n"
      ],
      "metadata": {
        "id": "ZtJ02lCVfz4L"
      }
    },
    {
      "cell_type": "markdown",
      "source": [
        "**Tools** are functions that an agent calls. There are two important considerations here:\n",
        "\n",
        "1. Giving the agent access to the right tools\n",
        "2. Describing the tools in a way that is most helpful to the agent"
      ],
      "metadata": {
        "id": "-RqIPYO0M11Z"
      }
    },
    {
      "cell_type": "code",
      "execution_count": null,
      "metadata": {
        "id": "9i9o5IQhfu-R"
      },
      "outputs": [],
      "source": [
        "# !pip install openai\n",
        "# !pip install langchain"
      ]
    },
    {
      "cell_type": "code",
      "source": [
        "# !pip install duckduckgo-search"
      ],
      "metadata": {
        "id": "c1o5mRXkND3U"
      },
      "execution_count": null,
      "outputs": []
    },
    {
      "cell_type": "code",
      "source": [
        "from langchain.llms import OpenAI"
      ],
      "metadata": {
        "id": "nw2lWxZPkFKI"
      },
      "execution_count": null,
      "outputs": []
    },
    {
      "cell_type": "code",
      "source": [
        "openai_api_key = ''"
      ],
      "metadata": {
        "id": "qdrX2g6skiSp"
      },
      "execution_count": null,
      "outputs": []
    },
    {
      "cell_type": "code",
      "source": [
        "llm = OpenAI(openai_api_key=openai_api_key)"
      ],
      "metadata": {
        "id": "clD14ZIZkiLh"
      },
      "execution_count": null,
      "outputs": []
    },
    {
      "cell_type": "code",
      "source": [
        "from langchain.tools import DuckDuckGoSearchRun\n",
        "\n",
        "search = DuckDuckGoSearchRun()\n",
        "\n",
        "search.run(\"Obama's first name?\")"
      ],
      "metadata": {
        "colab": {
          "base_uri": "https://localhost:8080/",
          "height": 140
        },
        "id": "VtYuv5AfMgEI",
        "outputId": "97bdbb95-041f-477d-a732-54be1e39dd98"
      },
      "execution_count": null,
      "outputs": [
        {
          "output_type": "execute_result",
          "data": {
            "text/plain": [
              "'Barack Hussein Obama II (/ b ə ˈ r ɑː k h uː ˈ s eɪ n oʊ ˈ b ɑː m ə / bə-RAHK hoo-SAYN oh-BAH-mə; born August 4, 1961) is an American politician who served as the 44th president of the United States from 2009 to 2017. A member of the Democratic Party, he was the first African-American president. Obama previously served as a U.S. senator representing Illinois from 2005 to 2008 and ... Barack Obama president of United States Cite External Websites Also known as: Barack Hussein Obama II Written by David Mendell Journalist. Author of Obama: From Promise to Power. David Mendell, Jeff Wallenfeldt Jeff Wallenfeldt, manager of Geography and History, has worked as an editor at Encyclopaedia Britannica since 1992. 1961-present Who Is Barack Obama? Barack Obama was the 44 th president of the United States and the first Black commander-in-chief. He served two terms, from 2009 until 2017. The son of... Answer (1 of 12): I see others have answered President Obama\\'s name which is \"Barack Hussein Obama\". President Obama has received many comments about his name from the racists across US. It is worth noting that he never changed his name. Also, it is worth noting that a simple search would have re... http://SNN.BZ Barack Obama speaking at the Cambridge Public Library. Recorded on September 20,1995. This video was originally aired on Channel 37 Cambrid...'"
            ],
            "application/vnd.google.colaboratory.intrinsic+json": {
              "type": "string"
            }
          },
          "metadata": {},
          "execution_count": 7
        }
      ]
    },
    {
      "cell_type": "code",
      "source": [
        "from langchain.agents import Tool\n",
        "\n",
        "tools = [Tool(\n",
        "            name = \"Search\",\n",
        "            func=search.run,\n",
        "            description=\"useful for when you need to answer questions about current events. You should ask targeted questions\"\n",
        "        )]"
      ],
      "metadata": {
        "id": "LfW3hvQQNBlR"
      },
      "execution_count": null,
      "outputs": []
    },
    {
      "cell_type": "markdown",
      "source": [
        "**Toolkit**: a groups of tools needed to accomplish specific objectives."
      ],
      "metadata": {
        "id": "l446uDHtOhWG"
      }
    },
    {
      "cell_type": "code",
      "source": [
        "from langchain import LLMMathChain"
      ],
      "metadata": {
        "id": "mIlXUOETPC-a"
      },
      "execution_count": null,
      "outputs": []
    },
    {
      "cell_type": "code",
      "source": [
        "llm_math_chain = LLMMathChain.from_llm(llm=llm, verbose=True)\n",
        "tools = [\n",
        "    Tool(\n",
        "        name = \"Search\",\n",
        "        func=search.run,\n",
        "        description=\"useful for when you need to answer questions about current events. You should ask targeted questions\"\n",
        "    ),\n",
        "    Tool(\n",
        "        name=\"Calculator\",\n",
        "        func=llm_math_chain.run,\n",
        "        description=\"useful for when you need to answer questions about math\"\n",
        "    )\n",
        "] #toolkit"
      ],
      "metadata": {
        "id": "cILghvRaOZ9u"
      },
      "execution_count": null,
      "outputs": []
    },
    {
      "cell_type": "markdown",
      "source": [
        "**Custom Tool**"
      ],
      "metadata": {
        "id": "8dzwr8vbU50P"
      }
    },
    {
      "cell_type": "code",
      "source": [
        "from langchain.tools import BaseTool\n",
        "from math import pi\n",
        "from typing import Union\n",
        "\n",
        "\n",
        "class CircumferenceTool(BaseTool):\n",
        "      name = \"Circumference calculator\"\n",
        "      description = \"use this tool when you need to calculate a circumference using the radius of a circle\"\n",
        "\n",
        "      def _run(self, radius: Union[int, float]):\n",
        "        try:\n",
        "            radius = float(radius)\n",
        "        except ValueError:\n",
        "            raise ValueError(\"The radius must be a number\")\n",
        "        return radius * 2.0 * pi"
      ],
      "metadata": {
        "id": "J-LYxMSMU8Jy"
      },
      "execution_count": null,
      "outputs": []
    },
    {
      "cell_type": "code",
      "source": [
        "tools = [CircumferenceTool()]"
      ],
      "metadata": {
        "id": "19bJ_0djVA39"
      },
      "execution_count": null,
      "outputs": []
    },
    {
      "cell_type": "markdown",
      "source": [
        "**Agents**"
      ],
      "metadata": {
        "id": "9pSJeaQAQLeT"
      }
    },
    {
      "cell_type": "code",
      "source": [
        "from langchain.agents import initialize_agent\n",
        "from langchain.agents import AgentType"
      ],
      "metadata": {
        "id": "4ADtc6-7PHdV"
      },
      "execution_count": null,
      "outputs": []
    },
    {
      "cell_type": "code",
      "source": [
        "agent = initialize_agent(tools,\n",
        "                         llm,\n",
        "                         agent=AgentType.ZERO_SHOT_REACT_DESCRIPTION,\n",
        "                         verbose=True)"
      ],
      "metadata": {
        "id": "y6GGP6HrPeLe"
      },
      "execution_count": null,
      "outputs": []
    },
    {
      "cell_type": "code",
      "source": [
        "agent.run(\"Which is the first country to land on the South pole of moon?\")"
      ],
      "metadata": {
        "colab": {
          "base_uri": "https://localhost:8080/",
          "height": 246
        },
        "id": "7kEm_EcLPi4U",
        "outputId": "f73273f2-833b-4ea9-a8a6-df96236d6765"
      },
      "execution_count": null,
      "outputs": [
        {
          "output_type": "stream",
          "name": "stdout",
          "text": [
            "\n",
            "\n",
            "\u001b[1m> Entering new AgentExecutor chain...\u001b[0m\n",
            "\u001b[32;1m\u001b[1;3m I need to research to find the answer\n",
            "Action: Search\n",
            "Action Input: First country to land on South pole of moon\u001b[0m\n",
            "Observation: \u001b[36;1m\u001b[1;3mSince earlier this month, there had been something of a footrace in space, with India and Russia vying to be the first country to land a spacecraft in the moon's south polar region. The Chandrayaan-3, which launched into space July 14, is India's second attempt to land at the moon's south pole. A previous attempt in 2019 deployed a lunar orbiter, but the Chandrayaan-2 ... NEW DELHI — India became the first country to land a spacecraft near the moon's south pole on Wednesday — a historic voyage to uncharted territory that scientists believe could hold... India became the first country to land a spacecraft near the moon's south pole after Russia's attempt at a lunar touch down in the same area ended in failure following an engine malfunction ... India on Wednesday made history as it became the first country in the world to land a spacecraft near the moon's south pole, an uncharted territory that scientists believe could hold...\u001b[0m\n",
            "Thought:\u001b[32;1m\u001b[1;3m India was the first country to land a spacecraft near the moon's south pole\n",
            "Final Answer: India was the first country to land a spacecraft near the moon's south pole.\u001b[0m\n",
            "\n",
            "\u001b[1m> Finished chain.\u001b[0m\n"
          ]
        },
        {
          "output_type": "execute_result",
          "data": {
            "text/plain": [
              "\"India was the first country to land a spacecraft near the moon's south pole.\""
            ],
            "application/vnd.google.colaboratory.intrinsic+json": {
              "type": "string"
            }
          },
          "metadata": {},
          "execution_count": 16
        }
      ]
    },
    {
      "cell_type": "markdown",
      "source": [
        "**Agent + Toolkit**"
      ],
      "metadata": {
        "id": "8-6Zew7IQZy4"
      }
    },
    {
      "cell_type": "code",
      "source": [
        "agent = initialize_agent(tools,\n",
        "                         llm,\n",
        "                         agent=AgentType.ZERO_SHOT_REACT_DESCRIPTION,\n",
        "                         verbose=True)"
      ],
      "metadata": {
        "id": "4pjYh7Q-QcLz"
      },
      "execution_count": null,
      "outputs": []
    },
    {
      "cell_type": "code",
      "source": [
        "agent.run(\"Which is current age of Shah Rukh Khan? Tell me the square root of his age.\")"
      ],
      "metadata": {
        "colab": {
          "base_uri": "https://localhost:8080/",
          "height": 489
        },
        "id": "Y1ClPZhKQd6U",
        "outputId": "ccc64961-9d8e-4fc6-bd5d-ac4d5e8f42bf"
      },
      "execution_count": null,
      "outputs": [
        {
          "output_type": "stream",
          "name": "stdout",
          "text": [
            "\n",
            "\n",
            "\u001b[1m> Entering new AgentExecutor chain...\u001b[0m\n",
            "\u001b[32;1m\u001b[1;3m I should look up his age and then apply a calculator to find the square root.\n",
            "Action: Search\n",
            "Action Input: Shah Rukh Khan age\u001b[0m\n",
            "Observation: \u001b[36;1m\u001b[1;3mShah Rukh Khan (pronounced [ˈʃɑːɦɾʊx xɑːn]; born 2 November 1965), also known by the initialism SRK, is an Indian actor and film producer who works in Hindi films.Referred to in the media as the \"Baadshah of Bollywood\" and \"King Khan\", he has appeared in more than 90 films, and earned numerous accolades, including 14 Filmfare Awards.He has been awarded the Padma Shri by the Government ... Aug. 7, 2023, 7:10 AM ET (The Indian Express) 1 month for Jawan's release: Shah Rukh Khan unveils new poster Shah Rukh Khan, Shah Rukh also spelled Shahrukh, (born November 2, 1965, Delhi, India), Indian actor known for his powerful screen presence. He was one of the most sought-after Bollywood actors. Shah Rukh Khan. Actor: Don 2. Shah Rukh Khan was born on November 02, 1965 in New Delhi to Meer Taj Mohammed Khan & Lateef Fatima Khan. He also has an elder sister, Shehnaz Lalarukh. He spent his early days in Bangalore with his grandparents. His father used to run a restaurant in Delhi. His father died in 1981 and mother in 1991. And after the death of their parents,... Shah Rukh Khan During the shoot of the film, Fauji. He has done small roles in the TV serials like \"Umeed,\" \"Wagle Ki Duniya,\" and \"Mahan Karz.\". He even featured in the English film \"In Which Annie Gives It Those Ones,\" in which he worked with Arundhati Roy . The film is also considered his debut English film. Shah Rukh Khan: his birthday, what he did before fame, his family life, fun trivia facts, popularity rankings, and more. ... Birthplace New Delhi, India. Age 57 years old #1380 Most Popular. Boost. About . Prolific Indian film actor and Bollywood star who became known as \"The King of Romance.\" One of the most decorated actors in Indian film ...\u001b[0m\n",
            "Thought:\u001b[32;1m\u001b[1;3m I now know the age of Shah Rukh Khan\n",
            "Action: Calculator\n",
            "Action Input: 56\u001b[0m\n",
            "\n",
            "\u001b[1m> Entering new LLMMathChain chain...\u001b[0m\n",
            "56\u001b[32;1m\u001b[1;3m```text\n",
            "56\n",
            "```\n",
            "...numexpr.evaluate(\"56\")...\n",
            "\u001b[0m\n",
            "Answer: \u001b[33;1m\u001b[1;3m56\u001b[0m\n",
            "\u001b[1m> Finished chain.\u001b[0m\n",
            "\n",
            "Observation: \u001b[33;1m\u001b[1;3mAnswer: 56\u001b[0m\n",
            "Thought:\u001b[32;1m\u001b[1;3m I now know the final answer\n",
            "Final Answer: The square root of Shah Rukh Khan's age is 7.4833147735\u001b[0m\n",
            "\n",
            "\u001b[1m> Finished chain.\u001b[0m\n"
          ]
        },
        {
          "output_type": "execute_result",
          "data": {
            "text/plain": [
              "\"The square root of Shah Rukh Khan's age is 7.4833147735\""
            ],
            "application/vnd.google.colaboratory.intrinsic+json": {
              "type": "string"
            }
          },
          "metadata": {},
          "execution_count": 33
        }
      ]
    },
    {
      "cell_type": "markdown",
      "source": [
        "**Agent + Custom Tool**"
      ],
      "metadata": {
        "id": "tXOSS3gtVJnz"
      }
    },
    {
      "cell_type": "code",
      "source": [
        "agent = initialize_agent(tools,\n",
        "                         llm,\n",
        "                         agent=AgentType.ZERO_SHOT_REACT_DESCRIPTION,\n",
        "                         verbose=True)"
      ],
      "metadata": {
        "id": "_nOEYXvNTH0f"
      },
      "execution_count": null,
      "outputs": []
    },
    {
      "cell_type": "code",
      "source": [
        "agent(\"can you calculate the circumference of a circle that has a radius of 7.81\")"
      ],
      "metadata": {
        "colab": {
          "base_uri": "https://localhost:8080/"
        },
        "id": "yCUD38V-VUxf",
        "outputId": "cdec40d0-3bd7-461f-f549-94f58168dfb7"
      },
      "execution_count": null,
      "outputs": [
        {
          "output_type": "stream",
          "name": "stdout",
          "text": [
            "\n",
            "\n",
            "\u001b[1m> Entering new AgentExecutor chain...\u001b[0m\n",
            "\u001b[32;1m\u001b[1;3m I need to use a tool to calculate the circumference\n",
            "Action: Circumference calculator\n",
            "Action Input: 7.81\u001b[0m\n",
            "Observation: \u001b[36;1m\u001b[1;3m49.071677249072565\u001b[0m\n",
            "Thought:\u001b[32;1m\u001b[1;3m I now know the final answer\n",
            "Final Answer: The circumference of a circle with a radius of 7.81 is 49.071677249072565\u001b[0m\n",
            "\n",
            "\u001b[1m> Finished chain.\u001b[0m\n"
          ]
        },
        {
          "output_type": "execute_result",
          "data": {
            "text/plain": [
              "{'input': 'can you calculate the circumference of a circle that has a radius of 7.81',\n",
              " 'output': 'The circumference of a circle with a radius of 7.81 is 49.071677249072565'}"
            ]
          },
          "metadata": {},
          "execution_count": 46
        }
      ]
    },
    {
      "cell_type": "markdown",
      "source": [
        "**Types of Agents**\n",
        "\n",
        "There are multiple types of agent:\n",
        "\n",
        "\n",
        "1.   Conversational\n",
        "2.   ReAct\n",
        "3.   You can explore other types by following this link: https://python.langchain.com/docs/modules/agents/agent_types/\n",
        "\n"
      ],
      "metadata": {
        "id": "Si81z8A-WW99"
      }
    },
    {
      "cell_type": "markdown",
      "source": [
        "**Conversational Agent**"
      ],
      "metadata": {
        "id": "7X7QK5qzW0CH"
      }
    },
    {
      "cell_type": "code",
      "source": [
        "from langchain.memory import ConversationBufferMemory"
      ],
      "metadata": {
        "id": "Of80oV8lVZmg"
      },
      "execution_count": null,
      "outputs": []
    },
    {
      "cell_type": "code",
      "source": [
        "from langchain.agents import Tool\n",
        "\n",
        "tools = [Tool(\n",
        "            name = \"Search\",\n",
        "            func=search.run,\n",
        "            description=\"useful for when you need to answer questions about current events. You should ask targeted questions\"\n",
        "        )]"
      ],
      "metadata": {
        "id": "tI7toV7EW5uS"
      },
      "execution_count": null,
      "outputs": []
    },
    {
      "cell_type": "code",
      "source": [
        "memory = ConversationBufferMemory(memory_key=\"chat_history\")"
      ],
      "metadata": {
        "id": "v6ZCbg_lW-2J"
      },
      "execution_count": null,
      "outputs": []
    },
    {
      "cell_type": "code",
      "source": [
        "agent_chain = initialize_agent(tools,\n",
        "                               llm,\n",
        "                               agent=AgentType.CONVERSATIONAL_REACT_DESCRIPTION,\n",
        "                               verbose=True,\n",
        "                               memory=memory)"
      ],
      "metadata": {
        "id": "Z2HgHkloXAha"
      },
      "execution_count": null,
      "outputs": []
    },
    {
      "cell_type": "code",
      "source": [
        "agent_chain.run(\"Hi!, I am Ankur\")"
      ],
      "metadata": {
        "colab": {
          "base_uri": "https://localhost:8080/",
          "height": 174
        },
        "id": "ZiyigpC0XEZt",
        "outputId": "3958e93a-f899-40f0-bbd8-864ebbf239ca"
      },
      "execution_count": null,
      "outputs": [
        {
          "output_type": "stream",
          "name": "stdout",
          "text": [
            "\n",
            "\n",
            "\u001b[1m> Entering new AgentExecutor chain...\u001b[0m\n",
            "\u001b[32;1m\u001b[1;3m\n",
            "Thought: Do I need to use a tool? No\n",
            "AI: Hi Ankur, nice to meet you! How can I help you today?\u001b[0m\n",
            "\n",
            "\u001b[1m> Finished chain.\u001b[0m\n"
          ]
        },
        {
          "output_type": "execute_result",
          "data": {
            "text/plain": [
              "'Hi Ankur, nice to meet you! How can I help you today?'"
            ],
            "application/vnd.google.colaboratory.intrinsic+json": {
              "type": "string"
            }
          },
          "metadata": {},
          "execution_count": 51
        }
      ]
    },
    {
      "cell_type": "code",
      "source": [
        "agent_chain.run(\"what are 2 good dinners to make this week, if i like thai food?\")"
      ],
      "metadata": {
        "colab": {
          "base_uri": "https://localhost:8080/",
          "height": 281
        },
        "id": "B16ga7TQXSyc",
        "outputId": "5b4a0b66-98f9-440b-f07d-dc65c4ff8bec"
      },
      "execution_count": null,
      "outputs": [
        {
          "output_type": "stream",
          "name": "stdout",
          "text": [
            "\n",
            "\n",
            "\u001b[1m> Entering new AgentExecutor chain...\u001b[0m\n",
            "\u001b[32;1m\u001b[1;3m\n",
            "Thought: Do I need to use a tool? Yes\n",
            "Action: Search\n",
            "Action Input: Thai food dinner recipes\u001b[0m\n",
            "Observation: \u001b[36;1m\u001b[1;3mThai Basil Chicken. Thai basil chicken, also known as gai pad kra pao, is a light Thai dish that can be served at any time of day. Simply Suwanee swears that it makes for a delicious brunch main. This street food includes seasoned chicken served with jasmine rice, fried egg and green beans. Go to Recipe. 25 / 45. Here are 41 of our favorite Thai recipes, inspired by the cuisine's sweet, savory, salty, and spicy flavors. If you take a deep dive into our recipe database, you'll notice a few interesting ... Pad Thai. This is a favorite at many Thai-American restaurants, although what many serve is a far departure from the original recipe. Pad Thai is actually a fairly recent addition to Thai cuisine ... 1. Tom Yum Goong ต้มยำกุ้ง If Thai cuisine were to be be summarized by one dish, tom yum would be it. It has all the flavours we love - spicy, sour, salty, and sweet - and uses the key herbs that are essential to most Thai cooking; such as lemongrass, galangal and makrut lime leaves (aka kaffir lime leaves). 14. Thai Coconut Rice. Aromatic and flavorful with a bit of a crunch — that's Thai coconut rice in a nutshell. Coconut milk, candied ginger, and turmeric give the best flavors to this rice dish. Crushed red pepper flakes add a tolerable heat, while the sliced almonds on top make for a crunchy bite! 15.\u001b[0m\n",
            "Thought:\u001b[32;1m\u001b[1;3m Do I need to use a tool? No\n",
            "AI: If you like Thai food, some great dinner options are Tom Yum Goong, Pad Thai, and Thai Coconut Rice! Each of these dishes has a unique flavor and are sure to be a hit with family and friends.\u001b[0m\n",
            "\n",
            "\u001b[1m> Finished chain.\u001b[0m\n"
          ]
        },
        {
          "output_type": "execute_result",
          "data": {
            "text/plain": [
              "'If you like Thai food, some great dinner options are Tom Yum Goong, Pad Thai, and Thai Coconut Rice! Each of these dishes has a unique flavor and are sure to be a hit with family and friends.'"
            ],
            "application/vnd.google.colaboratory.intrinsic+json": {
              "type": "string"
            }
          },
          "metadata": {},
          "execution_count": 52
        }
      ]
    },
    {
      "cell_type": "code",
      "source": [
        "agent_chain.run(\"What is my name?\")"
      ],
      "metadata": {
        "colab": {
          "base_uri": "https://localhost:8080/",
          "height": 174
        },
        "id": "zwiYRRd4XesN",
        "outputId": "2e49bc5f-9647-4d10-c14f-9fe5c5d6ffc1"
      },
      "execution_count": null,
      "outputs": [
        {
          "output_type": "stream",
          "name": "stdout",
          "text": [
            "\n",
            "\n",
            "\u001b[1m> Entering new AgentExecutor chain...\u001b[0m\n",
            "\u001b[32;1m\u001b[1;3m\n",
            "Thought: Do I need to use a tool? No\n",
            "AI: Your name is Ankur!\u001b[0m\n",
            "\n",
            "\u001b[1m> Finished chain.\u001b[0m\n"
          ]
        },
        {
          "output_type": "execute_result",
          "data": {
            "text/plain": [
              "'Your name is Ankur!'"
            ],
            "application/vnd.google.colaboratory.intrinsic+json": {
              "type": "string"
            }
          },
          "metadata": {},
          "execution_count": 53
        }
      ]
    },
    {
      "cell_type": "markdown",
      "source": [
        "**ReAct Agent**"
      ],
      "metadata": {
        "id": "uP0VMZpAXpRg"
      }
    },
    {
      "cell_type": "code",
      "source": [
        "agent = initialize_agent(tools,\n",
        "                         llm,\n",
        "                         agent=AgentType.ZERO_SHOT_REACT_DESCRIPTION,\n",
        "                         verbose=True)"
      ],
      "metadata": {
        "id": "s0DkaCcPXs8J"
      },
      "execution_count": null,
      "outputs": []
    },
    {
      "cell_type": "code",
      "source": [
        "agent.run(\"Which is the full form of IEEE?\")"
      ],
      "metadata": {
        "colab": {
          "base_uri": "https://localhost:8080/",
          "height": 246
        },
        "id": "krlV4ew0X1KD",
        "outputId": "a0facfb3-2624-41ba-f907-3f4ca9a3fa8c"
      },
      "execution_count": null,
      "outputs": [
        {
          "output_type": "stream",
          "name": "stdout",
          "text": [
            "\n",
            "\n",
            "\u001b[1m> Entering new AgentExecutor chain...\u001b[0m\n",
            "\u001b[32;1m\u001b[1;3m I need to research this question\n",
            "Action: Search\n",
            "Action Input: \"Full form of IEEE\"\u001b[0m\n",
            "Observation: \u001b[36;1m\u001b[1;3mIEEE stands for Institute of Electrical and Electronics Engineers. It is a professional association with a nonprofit organization with its headquarter in New York in the United States of America. It is composed of engineers, scientists, allied professionals, advancing innovation and technological excellence for the benefit of humanity. What Is The Full Form Of IEEE? The full form of IEEE is the Institute of Electrical and Electronics Engineers. IEEE is a technical professional society dedicated to advancing tech and innovation. IEEE serves scientists, engineers, and professionals involved in all areas of science and technology. It mainly focuses on Electronics & Communication ... Abbreviation of Institute of Electrical and Electronics Engineers, pronounced I-triple-E. Founded in 1884 as the AIEE, the IEEE was formed in 1963 when AIEE merged with IRE. IEEE is an organization composed of engineers, scientists, and students. The IEEE is best known for developing standards for the computer and electronics industry. Institute of Electrical and Electronics Engineers ( IEEE) is a non-profit organization of engineering professionals, consist of engineers, scientists, and students. IEEE is best known for developing standards for the computer and electronics industry. Share. Faqs What is IEEE Full Form? IEEE full form is Institute of Electrical and Electronics Engineers. It is a professional association or alliance with nonprofit organizations. It is composed of engineers, scientists, allied professionals, advancing innovation and technological excellence for the growth and benefit of humanity.\u001b[0m\n",
            "Thought:\u001b[32;1m\u001b[1;3m I now know the final answer\n",
            "Final Answer: The full form of IEEE is Institute of Electrical and Electronics Engineers.\u001b[0m\n",
            "\n",
            "\u001b[1m> Finished chain.\u001b[0m\n"
          ]
        },
        {
          "output_type": "execute_result",
          "data": {
            "text/plain": [
              "'The full form of IEEE is Institute of Electrical and Electronics Engineers.'"
            ],
            "application/vnd.google.colaboratory.intrinsic+json": {
              "type": "string"
            }
          },
          "metadata": {},
          "execution_count": 55
        }
      ]
    }
  ]
}