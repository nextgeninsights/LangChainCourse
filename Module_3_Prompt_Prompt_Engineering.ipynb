{
  "cells": [
    {
      "cell_type": "markdown",
      "source": [
        "Component 3- **Prompts**"
      ],
      "metadata": {
        "id": "r7uVSp-vx-Dj"
      },
      "id": "r7uVSp-vx-Dj"
    },
    {
      "cell_type": "markdown",
      "source": [
        "**What is Prompt Engineering?**\n",
        "\n",
        "Prompt engineering refers to the process of designing and refining prompts or instructions given to a language model like ChatGPT to obtain desired outputs. It involves crafting specific and well-defined queries or requests to elicit accurate and relevant responses from the model.\n",
        "\n",
        "The process of prompt engineering involves iterative experimentation and fine-tuning. It often requires an understanding of the models capabilities, limitations, and biases. Through trial and error, researchers can adjust prompts to achieve the desired output quality, correctness, and relevance.\n"
      ],
      "metadata": {
        "id": "7dzIfcrVSZ8X"
      },
      "id": "7dzIfcrVSZ8X"
    },
    {
      "cell_type": "markdown",
      "id": "ccb9cc72",
      "metadata": {
        "id": "ccb9cc72"
      },
      "source": [
        "**5 Best Practises for giving Prompts**\n",
        "\n",
        "Delimeters <br>\n",
        "Structured Output <br>\n",
        "Few Shot Prompting <br>\n",
        "Chaining the steps <br>\n",
        "Show detailed solution <br>"
      ]
    },
    {
      "cell_type": "code",
      "source": [
        "# !pip install openai\n",
        "# !pip install langchain"
      ],
      "metadata": {
        "id": "Z58JfbRQvbZn"
      },
      "id": "Z58JfbRQvbZn",
      "execution_count": null,
      "outputs": []
    },
    {
      "cell_type": "code",
      "execution_count": null,
      "id": "14ffd838",
      "metadata": {
        "id": "14ffd838"
      },
      "outputs": [],
      "source": [
        "import openai"
      ]
    },
    {
      "cell_type": "code",
      "source": [
        "openai_api_key=''"
      ],
      "metadata": {
        "id": "FM25vheavoKg"
      },
      "id": "FM25vheavoKg",
      "execution_count": null,
      "outputs": []
    },
    {
      "cell_type": "code",
      "source": [
        "from langchain.llms import OpenAI\n",
        "\n",
        "llm = OpenAI(openai_api_key=openai_api_key, temperature = 0)"
      ],
      "metadata": {
        "id": "Xty2pUZOvqxS"
      },
      "id": "Xty2pUZOvqxS",
      "execution_count": null,
      "outputs": []
    },
    {
      "cell_type": "markdown",
      "source": [
        "**Delimiters**"
      ],
      "metadata": {
        "id": "2ouvdJfCSpG4"
      },
      "id": "2ouvdJfCSpG4"
    },
    {
      "cell_type": "code",
      "execution_count": null,
      "id": "56e9f121",
      "metadata": {
        "id": "56e9f121",
        "colab": {
          "base_uri": "https://localhost:8080/",
          "height": 70
        },
        "outputId": "8bc52d02-8f4f-4e53-92d9-06a5357edb4b"
      },
      "outputs": [
        {
          "output_type": "execute_result",
          "data": {
            "text/plain": [
              "'The present era is characterized by remarkable scientific progress and complex global challenges, requiring careful consideration, collaboration, and ethical decision-making to navigate the uncertain terrain of the future.'"
            ],
            "application/vnd.google.colaboratory.intrinsic+json": {
              "type": "string"
            }
          },
          "metadata": {},
          "execution_count": 5
        }
      ],
      "source": [
        "text = f\"\"\"\n",
        "In today's rapidly evolving world, where technology drives innovation and communication spans across continents within seconds, humanity finds itself grappling with unprecedented challenges and opportunities. The intersection of artificial intelligence, automation, and robotics promises a future where tasks once performed by humans are now delegated to machines, raising concerns about the displacement of jobs and the need to adapt our workforce. Simultaneously, advancements in medical research and biotechnology offer hope for curing diseases and extending human lifespan, but also pose ethical dilemmas regarding genetic manipulation and the boundaries of human enhancement. Meanwhile, the urgent issue of climate change demands immediate action to mitigate its catastrophic consequences, compelling nations and societies to shift towards sustainable practices and renewable energy sources. Amidst this backdrop, societal divisions fueled by political polarization and cultural differences persist, emphasizing the need for empathy, inclusivity, and dialogue to foster understanding and unity. In summary, the present era is characterized by the juxtaposition of remarkable scientific progress and complex global challenges, necessitating careful consideration, collaboration, and ethical decision-making as we navigate the uncertain terrain of the future.\n",
        "\"\"\"\n",
        "prompt = f\"\"\"\n",
        "Summarize the text delimited by triple backticks \\\n",
        "into a single sentence.\n",
        "```{text}```\n",
        "\"\"\"\n",
        "llm(prompt)"
      ]
    },
    {
      "cell_type": "markdown",
      "id": "3e334a84",
      "metadata": {
        "id": "3e334a84"
      },
      "source": [
        "The present era is marked by significant scientific progress and complex global challenges, requiring careful consideration, collaboration, and ethical decision-making as we navigate the uncertain terrain of the future.\n"
      ]
    },
    {
      "cell_type": "markdown",
      "source": [
        "**Structured Output - JSON, HTML, XML**"
      ],
      "metadata": {
        "id": "khdH24K-Ssa3"
      },
      "id": "khdH24K-Ssa3"
    },
    {
      "cell_type": "code",
      "execution_count": null,
      "id": "74a0ab89",
      "metadata": {
        "id": "74a0ab89",
        "colab": {
          "base_uri": "https://localhost:8080/",
          "height": 87
        },
        "outputId": "bb75b74c-a491-4c5b-eef6-2cffa319837c"
      },
      "outputs": [
        {
          "output_type": "execute_result",
          "data": {
            "text/plain": [
              "'\\n[\\n  {\\n    \"country_id\": 1,\\n    \"name\": \"USA\",\\n    \"code\": \"US\",\\n    \"president\": \"Joe Biden\"\\n  },\\n  {\\n    \"country_id\": 2,\\n    \"name\": \"India\",\\n    \"code\": \"IN\",\\n    \"president\": \"Ram Nath Kovind\"\\n  },\\n  {\\n    \"country_id\": 3,\\n    \"name\": \"Uganda\",\\n    \"code\": \"UG\",\\n    \"president\": \"Yoweri Museveni\"\\n  }\\n]'"
            ],
            "application/vnd.google.colaboratory.intrinsic+json": {
              "type": "string"
            }
          },
          "metadata": {},
          "execution_count": 6
        }
      ],
      "source": [
        "prompt = f\"\"\"\n",
        "Generate a list of countries including USA, India and Uganda along \\\n",
        "with their country code and current president.\n",
        "Provide them in JSON format with the following keys:\n",
        "country_id, name, code, president.\n",
        "\"\"\"\n",
        "llm(prompt)"
      ]
    },
    {
      "cell_type": "markdown",
      "id": "7e89de37",
      "metadata": {
        "id": "7e89de37"
      },
      "source": [
        "[\n",
        "  {\n",
        "    \"country_id\": 1,\n",
        "    \"name\": \"United States of America\",\n",
        "    \"code\": \"USA\",\n",
        "    \"president\": \"Joe Biden\"\n",
        "  },\n",
        "  {\n",
        "    \"country_id\": 2,\n",
        "    \"name\": \"India\",\n",
        "    \"code\": \"IND\",\n",
        "    \"president\": \"Ram Nath Kovind\"\n",
        "  },\n",
        "  {\n",
        "    \"country_id\": 3,\n",
        "    \"name\": \"Uganda\",\n",
        "    \"code\": \"UGA\",\n",
        "    \"president\": \"Yoweri Museveni\"\n",
        "  }\n",
        "]"
      ]
    },
    {
      "cell_type": "code",
      "execution_count": null,
      "id": "6bcd7c84",
      "metadata": {
        "id": "6bcd7c84",
        "colab": {
          "base_uri": "https://localhost:8080/",
          "height": 87
        },
        "outputId": "994b6487-fc16-48ac-badd-987e807e0b97"
      },
      "outputs": [
        {
          "output_type": "execute_result",
          "data": {
            "text/plain": [
              "'\\n<table>\\n  <tr>\\n    <th>country_id</th>\\n    <th>name</th>\\n    <th>code</th>\\n    <th>president</th>\\n  </tr>\\n  <tr>\\n    <td>1</td>\\n    <td>USA</td>\\n    <td>US</td>\\n    <td>Joe Biden</td>\\n  </tr>\\n  <tr>\\n    <td>2</td>\\n    <td>India</td>\\n    <td>IN</td>\\n    <td>Ram Nath Kovind</td>\\n  </tr>\\n  <tr>\\n    <td>3</td>\\n    <td>Uganda</td>\\n    <td>UG</td>\\n    <td>Yoweri Museveni</td>\\n  </tr>\\n</table>'"
            ],
            "application/vnd.google.colaboratory.intrinsic+json": {
              "type": "string"
            }
          },
          "metadata": {},
          "execution_count": 7
        }
      ],
      "source": [
        "prompt = f\"\"\"\n",
        "Generate a list of countries including USA, India and Uganda along \\\n",
        "with their country code and current president.\n",
        "Provide them in HTML format with the following keys:\n",
        "country_id, name, code, president.\n",
        "\"\"\"\n",
        "llm(prompt)"
      ]
    },
    {
      "cell_type": "markdown",
      "id": "40bbf811",
      "metadata": {
        "id": "40bbf811"
      },
      "source": [
        "<table>\n",
        "  <tr>\n",
        "    <th>country_id</th>\n",
        "    <th>name</th>\n",
        "    <th>code</th>\n",
        "    <th>president</th>\n",
        "  </tr>\n",
        "  <tr>\n",
        "    <td>1</td>\n",
        "    <td>United States of America</td>\n",
        "    <td>USA</td>\n",
        "    <td>Joe Biden</td>\n",
        "  </tr>\n",
        "  <tr>\n",
        "    <td>2</td>\n",
        "    <td>India</td>\n",
        "    <td>IND</td>\n",
        "    <td>Narendra Modi</td>\n",
        "  </tr>\n",
        "  <tr>\n",
        "    <td>3</td>\n",
        "    <td>Uganda</td>\n",
        "    <td>UGA</td>\n",
        "    <td>Yoweri Museveni</td>\n",
        "  </tr>\n",
        "</table>"
      ]
    },
    {
      "cell_type": "code",
      "execution_count": null,
      "id": "cbb353c2",
      "metadata": {
        "id": "cbb353c2",
        "colab": {
          "base_uri": "https://localhost:8080/",
          "height": 104
        },
        "outputId": "d9fdf296-bf64-4e16-d818-dfb604811ba8"
      },
      "outputs": [
        {
          "output_type": "execute_result",
          "data": {
            "text/plain": [
              "'\\n<?xml version=\"1.0\" encoding=\"UTF-8\"?>\\n<countries>\\n  <country>\\n    <country_id>1</country_id>\\n    <name>USA</name>\\n    <code>US</code>\\n    <president>Joe Biden</president>\\n  </country>\\n  <country>\\n    <country_id>2</country_id>\\n    <name>India</name>\\n    <code>IN</code>\\n    <president>Ram Nath Kovind</president>\\n  </country>\\n  <country>\\n    <country_id>3</country_id>\\n    <name>Uganda</name>\\n    <code>UG</code>\\n    <president>Yoweri Museveni</president>\\n  </country>\\n</countries>'"
            ],
            "application/vnd.google.colaboratory.intrinsic+json": {
              "type": "string"
            }
          },
          "metadata": {},
          "execution_count": 8
        }
      ],
      "source": [
        "prompt = f\"\"\"\n",
        "Generate a list of countries including USA, India and Uganda along \\\n",
        "with their country code and current president.\n",
        "Provide them in XML format with the following keys:\n",
        "country_id, name, code, president.\n",
        "\"\"\"\n",
        "llm(prompt)"
      ]
    },
    {
      "cell_type": "markdown",
      "id": "6a4b51d5",
      "metadata": {
        "id": "6a4b51d5"
      },
      "source": [
        "<countries>\n",
        "  <country>\n",
        "    <country_id>1</country_id>\n",
        "    <name>United States of America</name>\n",
        "    <code>USA</code>\n",
        "    <president>Joe Biden</president>\n",
        "  </country>\n",
        "  <country>\n",
        "    <country_id>2</country_id>\n",
        "    <name>India</name>\n",
        "    <code>IND</code>\n",
        "    <president>Ram Nath Kovind</president>\n",
        "  </country>\n",
        "  <country>\n",
        "    <country_id>3</country_id>\n",
        "    <name>Uganda</name>\n",
        "    <code>UGA</code>\n",
        "    <president>Yoweri Museveni</president>\n",
        "  </country>\n",
        "</countries>"
      ]
    },
    {
      "cell_type": "markdown",
      "source": [
        "**Few Shot Prompting**"
      ],
      "metadata": {
        "id": "ntzJ4jzrSv_R"
      },
      "id": "ntzJ4jzrSv_R"
    },
    {
      "cell_type": "code",
      "execution_count": null,
      "id": "a0f10436",
      "metadata": {
        "id": "a0f10436",
        "colab": {
          "base_uri": "https://localhost:8080/",
          "height": 70
        },
        "outputId": "4f85c818-ca5b-4255-f5c5-a7d439a6fc3a"
      },
      "outputs": [
        {
          "output_type": "execute_result",
          "data": {
            "text/plain": [
              "\"\\n<grandparent>: Generosity is like giving away your last slice of pizza to a friend who's had a bad day. It's like sharing your umbrella when it's pouring rain and you're already soaked. It's like giving someone a hug when they need it most.\""
            ],
            "application/vnd.google.colaboratory.intrinsic+json": {
              "type": "string"
            }
          },
          "metadata": {},
          "execution_count": 9
        }
      ],
      "source": [
        "prompt = f\"\"\"\n",
        "Your task is to answer in a funny manner\n",
        "\n",
        "<child>: What is patience\n",
        "\n",
        "<grandparent>: Patience is like waiting for your pizza delivery during a snowstorm when your stomach is growling louder than a hungry lion. It's that superpower that keeps you from tearing your hair out while watching the seconds crawl by on the clock. It's like trying to untangle a bunch of earphones without losing your sanity or accidentally summoning a demon.\n",
        "\n",
        "<child>: What is generosity\n",
        "\"\"\"\n",
        "llm(prompt)"
      ]
    },
    {
      "cell_type": "markdown",
      "id": "b4d6998d",
      "metadata": {
        "id": "b4d6998d"
      },
      "source": [
        "<grandparent>: Generosity is like sharing your last cookie with your arch-nemesis, or giving away your favorite toy to a group of wild monkeys. It's that warm fuzzy feeling you get when you make someone else's day, even if it means sacrificing your own happiness. It's like being a superhero, but instead of fighting crime, you're spreading kindness and joy wherever you go.\n"
      ]
    },
    {
      "cell_type": "markdown",
      "source": [
        "**Specify the steps required to complete the task**"
      ],
      "metadata": {
        "id": "jhRNM3jwS3o2"
      },
      "id": "jhRNM3jwS3o2"
    },
    {
      "cell_type": "code",
      "execution_count": null,
      "id": "27ee2b94",
      "metadata": {
        "id": "27ee2b94",
        "colab": {
          "base_uri": "https://localhost:8080/",
          "height": 70
        },
        "outputId": "e0b7639f-d7d1-4412-c904-c37fee363750"
      },
      "outputs": [
        {
          "output_type": "execute_result",
          "data": {
            "text/plain": [
              "\"\\nधर्मस्य ग्लानिर्भवति और तदात्मानं सृजाम्यहम् से भारत को परित्राण, साधूनाम् विनाश से बचाने और धर्मसंस्थापन के लिए युग-युग में सम्भव होता है।\\n\\nThe text speaks of India's resilience in protecting itself from destruction and upholding its Dharma through ages.\\n\\nVerbs: speaks, protecting, upholding.\\n\""
            ],
            "application/vnd.google.colaboratory.intrinsic+json": {
              "type": "string"
            }
          },
          "metadata": {},
          "execution_count": 13
        }
      ],
      "source": [
        "text = f\"\"\"\n",
        "यदा यदा हि धर्मस्य ग्लानिर्भवति भारत:।\n",
        "अभ्युत्थानमधर्मस्य तदात्मानं सृजाम्यहम्॥\n",
        "परित्राणाय साधूनाम् विनाशाय च दुष्कृताम्।\n",
        "धर्मसंस्थापनार्थाय सम्भवामि युगे-युगे॥\n",
        "\"\"\"\n",
        "# example 1\n",
        "prompt= f\"\"\"\n",
        "Perform the following actions:\n",
        "1 - Summarize the following text delimited by triple \\\n",
        "backticks with 1 sentence.\n",
        "2 - Translate the summary into English.\n",
        "3 - List each verb in the English summary.\n",
        "\n",
        "Separate your answers with line breaks.\n",
        "\n",
        "Text:\n",
        "```{text}```\n",
        "\"\"\"\n",
        "llm(prompt)"
      ]
    },
    {
      "cell_type": "markdown",
      "source": [
        "**Show Detailed Solution**"
      ],
      "metadata": {
        "id": "-XR4T6D1S8AP"
      },
      "id": "-XR4T6D1S8AP"
    },
    {
      "cell_type": "code",
      "execution_count": null,
      "id": "d82583df",
      "metadata": {
        "id": "d82583df",
        "colab": {
          "base_uri": "https://localhost:8080/",
          "height": 70
        },
        "outputId": "cc46dc84-b60b-40cb-dacb-842bdd9d3b5e"
      },
      "outputs": [
        {
          "output_type": "execute_result",
          "data": {
            "text/plain": [
              "'\\nStep 1: Calculate the total cost of the bicycle and repairs.\\nTotal cost = $200 + $50 = $250\\n\\nStep 2: Calculate the desired profit.\\nDesired profit = 20% of $250 = $50\\n\\nStep 3: Calculate the selling price.\\nSelling price = Total cost + Desired profit = $250 + $50 = $300'"
            ],
            "application/vnd.google.colaboratory.intrinsic+json": {
              "type": "string"
            }
          },
          "metadata": {},
          "execution_count": 14
        }
      ],
      "source": [
        "prompt = f\"\"\"\n",
        "Show detailed steps for the following problem\n",
        "Tom bought a bicycle for $200 and spent an additional $50 on repairs. He then decided to sell it at a 20% profit. What price should Tom sell the bicycle for in order to achieve his desired profit?\n",
        "\"\"\"\n",
        "llm(prompt)"
      ]
    },
    {
      "cell_type": "markdown",
      "id": "bf3f8874",
      "metadata": {
        "id": "bf3f8874"
      },
      "source": [
        "1. Calculate the total cost of the bicycle for Tom:\n",
        "$200 (original cost) + $50 (repairs) = $250\n",
        "\n",
        "2. Determine the profit percentage Tom wants to make:\n",
        "20%\n",
        "\n",
        "3. Calculate the profit amount Tom wants to make:\n",
        "20% of $250 = $50\n",
        "\n",
        "4. Add the profit amount to the total cost of the bicycle:\n",
        "$250 (total cost) + $50 (profit) = $300\n",
        "\n",
        "5. The price Tom should sell the bicycle for in order to achieve his desired profit is $300."
      ]
    }
  ],
  "metadata": {
    "kernelspec": {
      "display_name": "Python 3 (ipykernel)",
      "language": "python",
      "name": "python3"
    },
    "language_info": {
      "codemirror_mode": {
        "name": "ipython",
        "version": 3
      },
      "file_extension": ".py",
      "mimetype": "text/x-python",
      "name": "python",
      "nbconvert_exporter": "python",
      "pygments_lexer": "ipython3",
      "version": "3.10.9"
    },
    "colab": {
      "provenance": []
    }
  },
  "nbformat": 4,
  "nbformat_minor": 5
}